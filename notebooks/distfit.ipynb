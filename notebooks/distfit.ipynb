{
  "nbformat": 4,
  "nbformat_minor": 0,
  "metadata": {
    "colab": {
      "name": "distfit.ipynb",
      "provenance": [],
      "collapsed_sections": []
    },
    "kernelspec": {
      "name": "python3",
      "display_name": "Python 3"
    }
  },
  "cells": [
    {
      "cell_type": "markdown",
      "metadata": {
        "id": "H2c0lF4kjpeX"
      },
      "source": [
        "**distfit** is a python package for *probability density fitting* of univariate distributions on non-censored data. With the Residual Sum of Squares (RSS) we determine the best fit across 89 theoretical distributions for which the best fitted theoretical distribution is returned with the loc, scale, arg parameters. The probability of new data-points can then be assed for significance.\n",
        "\n",
        "* [API Documentation](https://erdogant.github.io/distfit/)\n",
        "* [Github]( https://github.com/erdogant/distfit)\n"
      ]
    },
    {
      "cell_type": "code",
      "metadata": {
        "id": "bH5Lq4KajjF1"
      },
      "source": [
        "!pip install -U distfit\n",
        "import distfit\n",
        "print(distfit.__version__)"
      ],
      "execution_count": null,
      "outputs": []
    },
    {
      "cell_type": "code",
      "metadata": {
        "id": "oSd_ofaejlEt"
      },
      "source": [
        "import pandas as pd\n",
        "import numpy as np\n",
        "from distfit import distfit"
      ],
      "execution_count": null,
      "outputs": []
    },
    {
      "cell_type": "markdown",
      "metadata": {
        "id": "FCE9Rm-5zYEH"
      },
      "source": [
        "## Make example dataset"
      ]
    },
    {
      "cell_type": "code",
      "metadata": {
        "id": "O1sZRrMDTLkm"
      },
      "source": [
        "X = np.random.normal(0, 2, 5000)\n",
        "y = [-8,-6,0,1,2,3,4,5,6]"
      ],
      "execution_count": null,
      "outputs": []
    },
    {
      "cell_type": "code",
      "metadata": {
        "id": "FGDLiL1ZkLl0"
      },
      "source": [
        "# Initialize model with default parameters\n",
        "dist = distfit()\n",
        "\n",
        "# Fit on data\n",
        "model = dist.fit_transform(X)"
      ],
      "execution_count": null,
      "outputs": []
    },
    {
      "cell_type": "markdown",
      "metadata": {
        "id": "nxwAg8ssTrcO"
      },
      "source": [
        "## Plotting"
      ]
    },
    {
      "cell_type": "code",
      "metadata": {
        "id": "w5May30iTWuM"
      },
      "source": [
        "# Make plot\n",
        "dist.plot()"
      ],
      "execution_count": null,
      "outputs": []
    },
    {
      "cell_type": "markdown",
      "metadata": {
        "id": "zU0f_OQXTtci"
      },
      "source": [
        "## Predictions on new data"
      ]
    },
    {
      "cell_type": "code",
      "metadata": {
        "id": "UuuGtNiETb46"
      },
      "source": [
        "# Make prediction on new data\n",
        "results = dist.predict(y)"
      ],
      "execution_count": null,
      "outputs": []
    },
    {
      "cell_type": "code",
      "metadata": {
        "id": "g0sIQ7LLTeCt"
      },
      "source": [
        "# plot predictions\n",
        "dist.plot()\n",
        "dist.plot_summary()"
      ],
      "execution_count": null,
      "outputs": []
    },
    {
      "cell_type": "code",
      "metadata": {
        "id": "yFXqdneyWUXQ"
      },
      "source": [
        "results['df']"
      ],
      "execution_count": null,
      "outputs": []
    },
    {
      "cell_type": "code",
      "metadata": {
        "id": "diMFx1HpWae6"
      },
      "source": [
        ""
      ],
      "execution_count": null,
      "outputs": []
    }
  ]
}